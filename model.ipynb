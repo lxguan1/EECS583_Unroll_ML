{
  "nbformat": 4,
  "nbformat_minor": 0,
  "metadata": {
    "colab": {
      "provenance": []
    },
    "kernelspec": {
      "name": "python3",
      "display_name": "Python 3"
    },
    "language_info": {
      "name": "python"
    }
  },
  "cells": [
    {
      "cell_type": "code",
      "source": [
        "import torch\n",
        "from torch.utils.data import Dataset, DataLoader    # dataset representation and loading\n",
        "import torch.autograd as autograd         # computation graph\n",
        "from torch import Tensor                  # tensor node in the computation graph\n",
        "import torch.nn as nn                     # neural networks\n",
        "import torch.nn.functional as F           # layers, activations and more\n",
        "import torch.optim as optim               # optimizers e.g. gradient descent, ADAM, etc.\n",
        "from torch.jit import script, trace       # hybrid frontend decorator and tracing jit\n",
        "import numpy as np\n",
        "import dask.dataframe as dd\n",
        "import pandas as pd\n",
        "import fast_tensor_data_loader"
      ],
      "metadata": {
        "id": "sTAjn9eBhhJ8"
      },
      "execution_count": null,
      "outputs": []
    },
    {
      "cell_type": "code",
      "execution_count": null,
      "metadata": {
        "id": "zUoVVslNghrg"
      },
      "outputs": [],
      "source": [
        "class MPL(nn.Module):\n",
        "    def __init__(self,input_size,hidden_dim_1,hidden_dim_2,num_classes,drop_prob=0.5):\n",
        "        super(GeneModel, self).__init__()\n",
        "        #Put GeneModel architecture here (WITHOUT THE FINAL LAYERS)\n",
        "        self.hidden_dim_1=hidden_dim_1\n",
        "        self.hidden_dim_2=hidden_dim_2\n",
        "        self.num_classes=num_classes\n",
        "        \n",
        "        #self.flantten=torch.flatten()\n",
        "        self.fc_1=nn.Linear(input_size,hidden_dim_1)\n",
        "        self.fc_2=nn.Linear(hidden_dim_1,hidden_dim_2)\n",
        "        self.fc_3=nn.Linear(hidden_dim_2,num_classes)\n",
        "        \n",
        "        self.relu = nn.LeakyReLU()\n",
        "        \n",
        "        self.loss_function = nn.CrossEntropyLoss()\n",
        "    \n",
        "    def forward(self, x):\n",
        "        #Put GeneModel architecture here (WITHOUT THE FINAL LAYERS)\n",
        "        x=x.float()\n",
        "        #x=torch.flatten(x).float()\n",
        "        x=self.fc_1(x)\n",
        "        x=self.relu(x)\n",
        "        x=self.fc_2(x)\n",
        "        x=self.relu(x)\n",
        "        return x\n",
        "    \n",
        "    def train(self, train_batch, n_epochs = 30):\n",
        "        train_loss = 0\n",
        "        losses_epochs = []\n",
        "        for epoch in range(n_epochs):\n",
        "            print(\"Starting epoch: \", epoch)\n",
        "            for (X1, y) in train_batch:\n",
        "                self.optimizer.zero_grad()\n",
        "\n",
        "                outputs = self(X1, X2)\n",
        "                loss = self.criterion(outputs, y)\n",
        "                loss.backward()\n",
        "                optimizer.step()\n",
        "                train_loss += loss.item()\n",
        "            print(\"train loss:\", train_loss)\n",
        "            losses_epochs.append(train_loss)\n",
        "            train_loss = 0\n",
        "        return losses_epochs"
      ]
    },
    {
      "cell_type": "code",
      "source": [
        "mlp = MLP(8,8,8,8)\n",
        "train_data = torch.tensor(pd.read_csv(\"\").to_numpy())\n",
        "test_data = torch.tensor(pd.read_csv(\"\").to_numpy())\n",
        "\n",
        "# Dataloader\n",
        "\n",
        "mlp.train()"
      ],
      "metadata": {
        "id": "g5UM0JlKhMz7"
      },
      "execution_count": null,
      "outputs": []
    }
  ]
}